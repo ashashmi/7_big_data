{
 "cells": [
  {
   "cell_type": "code",
   "execution_count": 1,
   "id": "343b9897",
   "metadata": {},
   "outputs": [],
   "source": [
    "# create a Spark session\n",
    "spark = SparkSession.builder.appName('Sparkify').getOrCreate()"
   ]
  },
  {
   "cell_type": "code",
   "execution_count": 2,
   "id": "45d2010f",
   "metadata": {},
   "outputs": [
    {
     "name": "stderr",
     "output_type": "stream",
     "text": [
      "                                                                                \r"
     ]
    }
   ],
   "source": [
    "# load the file\n",
    "path = \"mini_sparkify_event_data.json\"\n",
    "spark_df = spark.read.json(path)"
   ]
  },
  {
   "cell_type": "code",
   "execution_count": 3,
   "id": "53018035",
   "metadata": {},
   "outputs": [
    {
     "data": {
      "text/plain": [
       "286500"
      ]
     },
     "execution_count": 3,
     "metadata": {},
     "output_type": "execute_result"
    }
   ],
   "source": [
    "# number of records in the dataset\n",
    "spark_df.count()"
   ]
  },
  {
   "cell_type": "code",
   "execution_count": 4,
   "id": "37e0de49",
   "metadata": {},
   "outputs": [
    {
     "name": "stdout",
     "output_type": "stream",
     "text": [
      "root\n",
      " |-- artist: string (nullable = true)\n",
      " |-- auth: string (nullable = true)\n",
      " |-- firstName: string (nullable = true)\n",
      " |-- gender: string (nullable = true)\n",
      " |-- itemInSession: long (nullable = true)\n",
      " |-- lastName: string (nullable = true)\n",
      " |-- length: double (nullable = true)\n",
      " |-- level: string (nullable = true)\n",
      " |-- location: string (nullable = true)\n",
      " |-- method: string (nullable = true)\n",
      " |-- page: string (nullable = true)\n",
      " |-- registration: long (nullable = true)\n",
      " |-- sessionId: long (nullable = true)\n",
      " |-- song: string (nullable = true)\n",
      " |-- status: long (nullable = true)\n",
      " |-- ts: long (nullable = true)\n",
      " |-- userAgent: string (nullable = true)\n",
      " |-- userId: string (nullable = true)\n",
      "\n"
     ]
    }
   ],
   "source": [
    "# show the schema of the dataset\n",
    "spark_df.printSchema()"
   ]
  },
  {
   "cell_type": "code",
   "execution_count": 5,
   "id": "5e4cd4de",
   "metadata": {},
   "outputs": [
    {
     "name": "stdout",
     "output_type": "stream",
     "text": [
      "artist 58392\n",
      "auth 0\n",
      "firstName 8346\n",
      "gender 8346\n",
      "itemInSession 0\n",
      "lastName 8346\n",
      "length 58392\n",
      "level 0\n",
      "location 8346\n",
      "method 0\n",
      "page 0\n",
      "registration 8346\n",
      "sessionId 0\n",
      "song 58392\n",
      "status 0\n",
      "ts 0\n",
      "userAgent 8346\n",
      "userId 8346\n"
     ]
    }
   ],
   "source": [
    "# count empty values in every column\n",
    "for col in spark_df.columns:\n",
    "    print(col,  spark_df.filter((spark_df[col].isNull()) | (spark_df[col] == \"\")).count())"
   ]
  },
  {
   "cell_type": "code",
   "execution_count": 6,
   "id": "0f2ddc11",
   "metadata": {},
   "outputs": [
    {
     "data": {
      "text/plain": [
       "278154"
      ]
     },
     "execution_count": 6,
     "metadata": {},
     "output_type": "execute_result"
    }
   ],
   "source": [
    "# removing empty values from feature userId\n",
    "df_clean = spark_df.dropna(how = 'any', subset = ['userId'])\n",
    "df_clean = df_clean.filter(df_clean['userId'] != '')\n",
    "df_clean.count()"
   ]
  },
  {
   "cell_type": "code",
   "execution_count": 7,
   "id": "d8597226",
   "metadata": {},
   "outputs": [
    {
     "name": "stderr",
     "output_type": "stream",
     "text": [
      "                                                                                \r"
     ]
    },
    {
     "data": {
      "text/html": [
       "<div>\n",
       "<style scoped>\n",
       "    .dataframe tbody tr th:only-of-type {\n",
       "        vertical-align: middle;\n",
       "    }\n",
       "\n",
       "    .dataframe tbody tr th {\n",
       "        vertical-align: top;\n",
       "    }\n",
       "\n",
       "    .dataframe thead th {\n",
       "        text-align: right;\n",
       "    }\n",
       "</style>\n",
       "<table border=\"1\" class=\"dataframe\">\n",
       "  <thead>\n",
       "    <tr style=\"text-align: right;\">\n",
       "      <th></th>\n",
       "      <th>0</th>\n",
       "      <th>1</th>\n",
       "      <th>2</th>\n",
       "    </tr>\n",
       "  </thead>\n",
       "  <tbody>\n",
       "    <tr>\n",
       "      <th>artist</th>\n",
       "      <td>Martha Tilston</td>\n",
       "      <td>Five Iron Frenzy</td>\n",
       "      <td>Adam Lambert</td>\n",
       "    </tr>\n",
       "    <tr>\n",
       "      <th>auth</th>\n",
       "      <td>Logged In</td>\n",
       "      <td>Logged In</td>\n",
       "      <td>Logged In</td>\n",
       "    </tr>\n",
       "    <tr>\n",
       "      <th>firstName</th>\n",
       "      <td>Colin</td>\n",
       "      <td>Micah</td>\n",
       "      <td>Colin</td>\n",
       "    </tr>\n",
       "    <tr>\n",
       "      <th>gender</th>\n",
       "      <td>M</td>\n",
       "      <td>M</td>\n",
       "      <td>M</td>\n",
       "    </tr>\n",
       "    <tr>\n",
       "      <th>itemInSession</th>\n",
       "      <td>50</td>\n",
       "      <td>79</td>\n",
       "      <td>51</td>\n",
       "    </tr>\n",
       "    <tr>\n",
       "      <th>lastName</th>\n",
       "      <td>Freeman</td>\n",
       "      <td>Long</td>\n",
       "      <td>Freeman</td>\n",
       "    </tr>\n",
       "    <tr>\n",
       "      <th>length</th>\n",
       "      <td>277.89016</td>\n",
       "      <td>236.09424</td>\n",
       "      <td>282.8273</td>\n",
       "    </tr>\n",
       "    <tr>\n",
       "      <th>level</th>\n",
       "      <td>paid</td>\n",
       "      <td>free</td>\n",
       "      <td>paid</td>\n",
       "    </tr>\n",
       "    <tr>\n",
       "      <th>location</th>\n",
       "      <td>Bakersfield, CA</td>\n",
       "      <td>Boston-Cambridge-Newton, MA-NH</td>\n",
       "      <td>Bakersfield, CA</td>\n",
       "    </tr>\n",
       "    <tr>\n",
       "      <th>method</th>\n",
       "      <td>PUT</td>\n",
       "      <td>PUT</td>\n",
       "      <td>PUT</td>\n",
       "    </tr>\n",
       "    <tr>\n",
       "      <th>page</th>\n",
       "      <td>NextSong</td>\n",
       "      <td>NextSong</td>\n",
       "      <td>NextSong</td>\n",
       "    </tr>\n",
       "    <tr>\n",
       "      <th>registration</th>\n",
       "      <td>1538173362000</td>\n",
       "      <td>1538331630000</td>\n",
       "      <td>1538173362000</td>\n",
       "    </tr>\n",
       "    <tr>\n",
       "      <th>sessionId</th>\n",
       "      <td>29</td>\n",
       "      <td>8</td>\n",
       "      <td>29</td>\n",
       "    </tr>\n",
       "    <tr>\n",
       "      <th>song</th>\n",
       "      <td>Rockpools</td>\n",
       "      <td>Canada</td>\n",
       "      <td>Time For Miracles</td>\n",
       "    </tr>\n",
       "    <tr>\n",
       "      <th>status</th>\n",
       "      <td>200</td>\n",
       "      <td>200</td>\n",
       "      <td>200</td>\n",
       "    </tr>\n",
       "    <tr>\n",
       "      <th>ts</th>\n",
       "      <td>1538352117000</td>\n",
       "      <td>1538352180000</td>\n",
       "      <td>1538352394000</td>\n",
       "    </tr>\n",
       "    <tr>\n",
       "      <th>userAgent</th>\n",
       "      <td>Mozilla/5.0 (Windows NT 6.1; WOW64; rv:31.0) G...</td>\n",
       "      <td>\"Mozilla/5.0 (Windows NT 6.1; WOW64) AppleWebK...</td>\n",
       "      <td>Mozilla/5.0 (Windows NT 6.1; WOW64; rv:31.0) G...</td>\n",
       "    </tr>\n",
       "    <tr>\n",
       "      <th>userId</th>\n",
       "      <td>30</td>\n",
       "      <td>9</td>\n",
       "      <td>30</td>\n",
       "    </tr>\n",
       "    <tr>\n",
       "      <th>event_time</th>\n",
       "      <td>2018-10-01 05:31:57</td>\n",
       "      <td>2018-10-01 05:33:00</td>\n",
       "      <td>2018-10-01 05:36:34</td>\n",
       "    </tr>\n",
       "    <tr>\n",
       "      <th>registration_time</th>\n",
       "      <td>2018-09-29 03:52:42</td>\n",
       "      <td>2018-09-30 23:50:30</td>\n",
       "      <td>2018-09-29 03:52:42</td>\n",
       "    </tr>\n",
       "  </tbody>\n",
       "</table>\n",
       "</div>"
      ],
      "text/plain": [
       "                                                                   0  \\\n",
       "artist                                                Martha Tilston   \n",
       "auth                                                       Logged In   \n",
       "firstName                                                      Colin   \n",
       "gender                                                             M   \n",
       "itemInSession                                                     50   \n",
       "lastName                                                     Freeman   \n",
       "length                                                     277.89016   \n",
       "level                                                           paid   \n",
       "location                                             Bakersfield, CA   \n",
       "method                                                           PUT   \n",
       "page                                                        NextSong   \n",
       "registration                                           1538173362000   \n",
       "sessionId                                                         29   \n",
       "song                                                       Rockpools   \n",
       "status                                                           200   \n",
       "ts                                                     1538352117000   \n",
       "userAgent          Mozilla/5.0 (Windows NT 6.1; WOW64; rv:31.0) G...   \n",
       "userId                                                            30   \n",
       "event_time                                       2018-10-01 05:31:57   \n",
       "registration_time                                2018-09-29 03:52:42   \n",
       "\n",
       "                                                                   1  \\\n",
       "artist                                              Five Iron Frenzy   \n",
       "auth                                                       Logged In   \n",
       "firstName                                                      Micah   \n",
       "gender                                                             M   \n",
       "itemInSession                                                     79   \n",
       "lastName                                                        Long   \n",
       "length                                                     236.09424   \n",
       "level                                                           free   \n",
       "location                              Boston-Cambridge-Newton, MA-NH   \n",
       "method                                                           PUT   \n",
       "page                                                        NextSong   \n",
       "registration                                           1538331630000   \n",
       "sessionId                                                          8   \n",
       "song                                                          Canada   \n",
       "status                                                           200   \n",
       "ts                                                     1538352180000   \n",
       "userAgent          \"Mozilla/5.0 (Windows NT 6.1; WOW64) AppleWebK...   \n",
       "userId                                                             9   \n",
       "event_time                                       2018-10-01 05:33:00   \n",
       "registration_time                                2018-09-30 23:50:30   \n",
       "\n",
       "                                                                   2  \n",
       "artist                                                  Adam Lambert  \n",
       "auth                                                       Logged In  \n",
       "firstName                                                      Colin  \n",
       "gender                                                             M  \n",
       "itemInSession                                                     51  \n",
       "lastName                                                     Freeman  \n",
       "length                                                      282.8273  \n",
       "level                                                           paid  \n",
       "location                                             Bakersfield, CA  \n",
       "method                                                           PUT  \n",
       "page                                                        NextSong  \n",
       "registration                                           1538173362000  \n",
       "sessionId                                                         29  \n",
       "song                                               Time For Miracles  \n",
       "status                                                           200  \n",
       "ts                                                     1538352394000  \n",
       "userAgent          Mozilla/5.0 (Windows NT 6.1; WOW64; rv:31.0) G...  \n",
       "userId                                                            30  \n",
       "event_time                                       2018-10-01 05:36:34  \n",
       "registration_time                                2018-09-29 03:52:42  "
      ]
     },
     "execution_count": 7,
     "metadata": {},
     "output_type": "execute_result"
    }
   ],
   "source": [
    "from pyspark.sql.functions import udf\n",
    "import datetime\n",
    "\n",
    "# transforming the ts and registation time format\n",
    "get_date = udf(lambda x: datetime.datetime.fromtimestamp(x / 1000.0).strftime(\"%Y-%m-%d %H:%M:%S\"))\n",
    "\n",
    "df_clean = df_clean.withColumn('event_time', get_date('ts'))\n",
    "df_clean = df_clean.withColumn('registration_time', get_date('registration'))\n",
    "\n",
    "df = df_clean.toPandas()\n",
    "df.head(3).transpose()"
   ]
  },
  {
   "cell_type": "code",
   "execution_count": 8,
   "id": "6d269895",
   "metadata": {},
   "outputs": [
    {
     "name": "stderr",
     "output_type": "stream",
     "text": [
      "\r",
      "[Stage 62:>                                                       (0 + 16) / 16]\r",
      "\r",
      "                                                                                \r"
     ]
    },
    {
     "name": "stdout",
     "output_type": "stream",
     "text": [
      "2018-10-01 05:31:57\n",
      "2018-12-03 06:41:16\n"
     ]
    }
   ],
   "source": [
    "from pyspark.sql.functions import min, max\n",
    "# time range in the data set   \n",
    "print(df_clean.agg({'event_time': 'min'}).collect()[0][0])\n",
    "print(df_clean.agg({'event_time': 'max'}).collect()[0][0])"
   ]
  },
  {
   "cell_type": "markdown",
   "id": "f0ddb004",
   "metadata": {},
   "source": [
    "# Exploratory data Analysis"
   ]
  },
  {
   "cell_type": "code",
   "execution_count": 9,
   "id": "83ff9683",
   "metadata": {},
   "outputs": [
    {
     "name": "stdout",
     "output_type": "stream",
     "text": [
      "+--------------------+\n",
      "|                page|\n",
      "+--------------------+\n",
      "|    Submit Downgrade|\n",
      "|         Thumbs Down|\n",
      "|                Home|\n",
      "|           Downgrade|\n",
      "|         Roll Advert|\n",
      "|              Logout|\n",
      "|       Save Settings|\n",
      "|               About|\n",
      "|            Settings|\n",
      "|     Add to Playlist|\n",
      "|          Add Friend|\n",
      "|            NextSong|\n",
      "|           Thumbs Up|\n",
      "|                Help|\n",
      "|             Upgrade|\n",
      "|               Error|\n",
      "|      Submit Upgrade|\n",
      "|              Cancel|\n",
      "|Cancellation Conf...|\n",
      "+--------------------+\n",
      "\n"
     ]
    }
   ],
   "source": [
    "#show the page content, to see what actions can be used to get informations about churn\n",
    "df_clean.select('page').distinct().show()"
   ]
  },
  {
   "cell_type": "code",
   "execution_count": 10,
   "id": "6b01e626",
   "metadata": {},
   "outputs": [],
   "source": [
    "from pyspark.sql.types import IntegerType\n",
    "from pyspark.sql.window import Window\n",
    "\n",
    "# create feature \"downgrade\"\n",
    "downgrade_event = udf(lambda x: 1 if x == 'Submit Downgrade' else 0, IntegerType())\n",
    "df_clean = df_clean.withColumn('downgrade_event', downgrade_event('page'))\n",
    "df_clean = df_clean.withColumn('downgrade', max('downgrade_event').over(Window.partitionBy('userId')))"
   ]
  },
  {
   "cell_type": "code",
   "execution_count": 11,
   "id": "6d38e774",
   "metadata": {},
   "outputs": [],
   "source": [
    "# create feature \"churn\"\n",
    "churn_event = udf(lambda x: 1 if x == 'Cancellation Confirmation' else 0, IntegerType())\n",
    "df_clean = df_clean.withColumn('churn_event', churn_event('page'))\n",
    "df_clean = df_clean.withColumn('churn', max('churn_event').over(Window.partitionBy('userId')))"
   ]
  },
  {
   "cell_type": "code",
   "execution_count": 12,
   "id": "25c78707",
   "metadata": {},
   "outputs": [
    {
     "name": "stderr",
     "output_type": "stream",
     "text": [
      "                                                                                \r"
     ]
    },
    {
     "data": {
      "text/html": [
       "<div>\n",
       "<style scoped>\n",
       "    .dataframe tbody tr th:only-of-type {\n",
       "        vertical-align: middle;\n",
       "    }\n",
       "\n",
       "    .dataframe tbody tr th {\n",
       "        vertical-align: top;\n",
       "    }\n",
       "\n",
       "    .dataframe thead th {\n",
       "        text-align: right;\n",
       "    }\n",
       "</style>\n",
       "<table border=\"1\" class=\"dataframe\">\n",
       "  <thead>\n",
       "    <tr style=\"text-align: right;\">\n",
       "      <th></th>\n",
       "      <th>0</th>\n",
       "      <th>1</th>\n",
       "      <th>2</th>\n",
       "    </tr>\n",
       "  </thead>\n",
       "  <tbody>\n",
       "    <tr>\n",
       "      <th>artist</th>\n",
       "      <td>Sleeping With Sirens</td>\n",
       "      <td>Francesca Battistelli</td>\n",
       "      <td>Brutha</td>\n",
       "    </tr>\n",
       "    <tr>\n",
       "      <th>auth</th>\n",
       "      <td>Logged In</td>\n",
       "      <td>Logged In</td>\n",
       "      <td>Logged In</td>\n",
       "    </tr>\n",
       "    <tr>\n",
       "      <th>firstName</th>\n",
       "      <td>Darianna</td>\n",
       "      <td>Darianna</td>\n",
       "      <td>Darianna</td>\n",
       "    </tr>\n",
       "    <tr>\n",
       "      <th>gender</th>\n",
       "      <td>F</td>\n",
       "      <td>F</td>\n",
       "      <td>F</td>\n",
       "    </tr>\n",
       "    <tr>\n",
       "      <th>itemInSession</th>\n",
       "      <td>0</td>\n",
       "      <td>1</td>\n",
       "      <td>2</td>\n",
       "    </tr>\n",
       "    <tr>\n",
       "      <th>lastName</th>\n",
       "      <td>Carpenter</td>\n",
       "      <td>Carpenter</td>\n",
       "      <td>Carpenter</td>\n",
       "    </tr>\n",
       "    <tr>\n",
       "      <th>length</th>\n",
       "      <td>202.97098</td>\n",
       "      <td>196.54485</td>\n",
       "      <td>263.13098</td>\n",
       "    </tr>\n",
       "    <tr>\n",
       "      <th>level</th>\n",
       "      <td>free</td>\n",
       "      <td>free</td>\n",
       "      <td>free</td>\n",
       "    </tr>\n",
       "    <tr>\n",
       "      <th>location</th>\n",
       "      <td>Bridgeport-Stamford-Norwalk, CT</td>\n",
       "      <td>Bridgeport-Stamford-Norwalk, CT</td>\n",
       "      <td>Bridgeport-Stamford-Norwalk, CT</td>\n",
       "    </tr>\n",
       "    <tr>\n",
       "      <th>method</th>\n",
       "      <td>PUT</td>\n",
       "      <td>PUT</td>\n",
       "      <td>PUT</td>\n",
       "    </tr>\n",
       "    <tr>\n",
       "      <th>page</th>\n",
       "      <td>NextSong</td>\n",
       "      <td>NextSong</td>\n",
       "      <td>NextSong</td>\n",
       "    </tr>\n",
       "    <tr>\n",
       "      <th>registration</th>\n",
       "      <td>1538016340000</td>\n",
       "      <td>1538016340000</td>\n",
       "      <td>1538016340000</td>\n",
       "    </tr>\n",
       "    <tr>\n",
       "      <th>sessionId</th>\n",
       "      <td>31</td>\n",
       "      <td>31</td>\n",
       "      <td>31</td>\n",
       "    </tr>\n",
       "    <tr>\n",
       "      <th>song</th>\n",
       "      <td>Captain Tyin Knots VS Mr Walkway (No Way)</td>\n",
       "      <td>Beautiful_ Beautiful (Album)</td>\n",
       "      <td>She's Gone</td>\n",
       "    </tr>\n",
       "    <tr>\n",
       "      <th>status</th>\n",
       "      <td>200</td>\n",
       "      <td>200</td>\n",
       "      <td>200</td>\n",
       "    </tr>\n",
       "    <tr>\n",
       "      <th>ts</th>\n",
       "      <td>1539003534000</td>\n",
       "      <td>1539003736000</td>\n",
       "      <td>1539003932000</td>\n",
       "    </tr>\n",
       "    <tr>\n",
       "      <th>userAgent</th>\n",
       "      <td>\"Mozilla/5.0 (iPhone; CPU iPhone OS 7_1_2 like...</td>\n",
       "      <td>\"Mozilla/5.0 (iPhone; CPU iPhone OS 7_1_2 like...</td>\n",
       "      <td>\"Mozilla/5.0 (iPhone; CPU iPhone OS 7_1_2 like...</td>\n",
       "    </tr>\n",
       "    <tr>\n",
       "      <th>userId</th>\n",
       "      <td>100010</td>\n",
       "      <td>100010</td>\n",
       "      <td>100010</td>\n",
       "    </tr>\n",
       "    <tr>\n",
       "      <th>event_time</th>\n",
       "      <td>2018-10-08 18:28:54</td>\n",
       "      <td>2018-10-08 18:32:16</td>\n",
       "      <td>2018-10-08 18:35:32</td>\n",
       "    </tr>\n",
       "    <tr>\n",
       "      <th>registration_time</th>\n",
       "      <td>2018-09-27 08:15:40</td>\n",
       "      <td>2018-09-27 08:15:40</td>\n",
       "      <td>2018-09-27 08:15:40</td>\n",
       "    </tr>\n",
       "    <tr>\n",
       "      <th>downgrade_event</th>\n",
       "      <td>0</td>\n",
       "      <td>0</td>\n",
       "      <td>0</td>\n",
       "    </tr>\n",
       "    <tr>\n",
       "      <th>downgrade</th>\n",
       "      <td>0</td>\n",
       "      <td>0</td>\n",
       "      <td>0</td>\n",
       "    </tr>\n",
       "    <tr>\n",
       "      <th>churn_event</th>\n",
       "      <td>0</td>\n",
       "      <td>0</td>\n",
       "      <td>0</td>\n",
       "    </tr>\n",
       "    <tr>\n",
       "      <th>churn</th>\n",
       "      <td>0</td>\n",
       "      <td>0</td>\n",
       "      <td>0</td>\n",
       "    </tr>\n",
       "  </tbody>\n",
       "</table>\n",
       "</div>"
      ],
      "text/plain": [
       "                                                                   0  \\\n",
       "artist                                          Sleeping With Sirens   \n",
       "auth                                                       Logged In   \n",
       "firstName                                                   Darianna   \n",
       "gender                                                             F   \n",
       "itemInSession                                                      0   \n",
       "lastName                                                   Carpenter   \n",
       "length                                                     202.97098   \n",
       "level                                                           free   \n",
       "location                             Bridgeport-Stamford-Norwalk, CT   \n",
       "method                                                           PUT   \n",
       "page                                                        NextSong   \n",
       "registration                                           1538016340000   \n",
       "sessionId                                                         31   \n",
       "song                       Captain Tyin Knots VS Mr Walkway (No Way)   \n",
       "status                                                           200   \n",
       "ts                                                     1539003534000   \n",
       "userAgent          \"Mozilla/5.0 (iPhone; CPU iPhone OS 7_1_2 like...   \n",
       "userId                                                        100010   \n",
       "event_time                                       2018-10-08 18:28:54   \n",
       "registration_time                                2018-09-27 08:15:40   \n",
       "downgrade_event                                                    0   \n",
       "downgrade                                                          0   \n",
       "churn_event                                                        0   \n",
       "churn                                                              0   \n",
       "\n",
       "                                                                   1  \\\n",
       "artist                                         Francesca Battistelli   \n",
       "auth                                                       Logged In   \n",
       "firstName                                                   Darianna   \n",
       "gender                                                             F   \n",
       "itemInSession                                                      1   \n",
       "lastName                                                   Carpenter   \n",
       "length                                                     196.54485   \n",
       "level                                                           free   \n",
       "location                             Bridgeport-Stamford-Norwalk, CT   \n",
       "method                                                           PUT   \n",
       "page                                                        NextSong   \n",
       "registration                                           1538016340000   \n",
       "sessionId                                                         31   \n",
       "song                                    Beautiful_ Beautiful (Album)   \n",
       "status                                                           200   \n",
       "ts                                                     1539003736000   \n",
       "userAgent          \"Mozilla/5.0 (iPhone; CPU iPhone OS 7_1_2 like...   \n",
       "userId                                                        100010   \n",
       "event_time                                       2018-10-08 18:32:16   \n",
       "registration_time                                2018-09-27 08:15:40   \n",
       "downgrade_event                                                    0   \n",
       "downgrade                                                          0   \n",
       "churn_event                                                        0   \n",
       "churn                                                              0   \n",
       "\n",
       "                                                                   2  \n",
       "artist                                                        Brutha  \n",
       "auth                                                       Logged In  \n",
       "firstName                                                   Darianna  \n",
       "gender                                                             F  \n",
       "itemInSession                                                      2  \n",
       "lastName                                                   Carpenter  \n",
       "length                                                     263.13098  \n",
       "level                                                           free  \n",
       "location                             Bridgeport-Stamford-Norwalk, CT  \n",
       "method                                                           PUT  \n",
       "page                                                        NextSong  \n",
       "registration                                           1538016340000  \n",
       "sessionId                                                         31  \n",
       "song                                                      She's Gone  \n",
       "status                                                           200  \n",
       "ts                                                     1539003932000  \n",
       "userAgent          \"Mozilla/5.0 (iPhone; CPU iPhone OS 7_1_2 like...  \n",
       "userId                                                        100010  \n",
       "event_time                                       2018-10-08 18:35:32  \n",
       "registration_time                                2018-09-27 08:15:40  \n",
       "downgrade_event                                                    0  \n",
       "downgrade                                                          0  \n",
       "churn_event                                                        0  \n",
       "churn                                                              0  "
      ]
     },
     "execution_count": 12,
     "metadata": {},
     "output_type": "execute_result"
    }
   ],
   "source": [
    "df = df_clean.toPandas()\n",
    "df.head(3).transpose()"
   ]
  },
  {
   "cell_type": "code",
   "execution_count": 13,
   "id": "8434db8f",
   "metadata": {},
   "outputs": [
    {
     "data": {
      "image/png": "[encoded data removed]",
      "text/plain": [
       "<Figure size 432x288 with 1 Axes>"
      ]
     },
     "metadata": {
      "needs_background": "light"
     },
     "output_type": "display_data"
    }
   ],
   "source": [
    "import seaborn as sns\n",
    "import matplotlib.pyplot as plt\n",
    "\n",
    "num_churn = df_clean.dropDuplicates(['userId', 'churn']).groupby(['churn']).count().toPandas()\n",
    "\n",
    "ax = sns.barplot(x='churn', y='count', data=num_churn);\n",
    "plt.xlabel('churn')\n",
    "plt.ylabel('count')\n",
    "plt.title('How many user churned?');"
   ]
  },
  {
   "cell_type": "code",
   "execution_count": 14,
   "id": "9ba1d20a",
   "metadata": {},
   "outputs": [
    {
     "data": {
      "image/png": "[encoded data removed]",
      "text/plain": [
       "<Figure size 432x288 with 1 Axes>"
      ]
     },
     "metadata": {
      "needs_background": "light"
     },
     "output_type": "display_data"
    }
   ],
   "source": [
    "# level (account) of the user\n",
    "account_churn = df_clean.dropDuplicates(['userId', 'gender']).groupby(['gender', 'level']).count().toPandas()\n",
    "\n",
    "ax = sns.barplot(x='level', y='count',hue='gender', data=account_churn);\n",
    "plt.xlabel('account')\n",
    "plt.ylabel('count')\n",
    "plt.title('In which accout does the user churn?')\n",
    "plt.legend(title='Gender', loc='best');"
   ]
  },
  {
   "cell_type": "code",
   "execution_count": 15,
   "id": "5b34bc8e",
   "metadata": {},
   "outputs": [
    {
     "data": {
      "image/png": "[encoded data removed]",
      "text/plain": [
       "<Figure size 432x288 with 1 Axes>"
      ]
     },
     "metadata": {
      "needs_background": "light"
     },
     "output_type": "display_data"
    }
   ],
   "source": [
    "# lifetime (membership) of the users\n",
    "lifetime = df_clean.select('userId','registration','ts','churn')\n",
    "lifetime = lifetime.withColumn('lifetime',(df_clean.ts - df_clean.registration)/(1000*3600*24)).groupBy('userId','churn').agg({'lifetime':'max'})\n",
    "lifetime = lifetime.withColumnRenamed('max(lifetime)','lifetime').select('userId', 'churn', 'lifetime').toPandas()\n",
    "\n",
    "ax = sns.boxplot(x='lifetime', y='churn', data=lifetime, orient='h');\n",
    "plt.xlabel('days member');\n",
    "plt.ylabel('churned');\n",
    "plt.title('How long does a user use Sparkify before churn?');"
   ]
  },
  {
   "cell_type": "markdown",
   "id": "ddd3c52d",
   "metadata": {},
   "source": [
    "# Feature Engineering"
   ]
  },
  {
   "cell_type": "code",
   "execution_count": 16,
   "id": "670baa7a",
   "metadata": {},
   "outputs": [
    {
     "name": "stdout",
     "output_type": "stream",
     "text": [
      "+------+------+\n",
      "|userId|gender|\n",
      "+------+------+\n",
      "|    10|     1|\n",
      "|   100|     1|\n",
      "|100001|     0|\n",
      "|100002|     0|\n",
      "|100003|     0|\n",
      "+------+------+\n",
      "only showing top 5 rows\n",
      "\n"
     ]
    }
   ],
   "source": [
    "# gender of the user\n",
    "gender = df_clean.select(['userId', 'gender']).dropDuplicates(['userId']).replace(['F', 'M'], ['0', '1'], 'gender')\n",
    "df_gender = gender.withColumn('gender', gender.gender.cast('int'))\n",
    "df_gender.show(5)"
   ]
  },
  {
   "cell_type": "code",
   "execution_count": 17,
   "id": "7133ae53",
   "metadata": {},
   "outputs": [
    {
     "name": "stdout",
     "output_type": "stream",
     "text": [
      "+------+-----+\n",
      "|userId|level|\n",
      "+------+-----+\n",
      "|    10|    0|\n",
      "|   100|    0|\n",
      "|100001|    1|\n",
      "|100002|    0|\n",
      "|100003|    1|\n",
      "+------+-----+\n",
      "only showing top 5 rows\n",
      "\n"
     ]
    }
   ],
   "source": [
    "# level of the user\n",
    "payment = df_clean.select(['userId', 'level']).dropDuplicates(['userId']).replace(['paid', 'free'], ['0', '1'], 'level')\n",
    "df_payment = payment.withColumn('level', payment.level.cast('int'))\n",
    "df_payment.show(5)"
   ]
  },
  {
   "cell_type": "code",
   "execution_count": 18,
   "id": "35cfc7b4",
   "metadata": {},
   "outputs": [
    {
     "name": "stdout",
     "output_type": "stream",
     "text": [
      "+------+---------+\n",
      "|userId|downgrade|\n",
      "+------+---------+\n",
      "|    10|        0|\n",
      "|   100|        1|\n",
      "|100001|        0|\n",
      "|100002|        0|\n",
      "|100003|        0|\n",
      "+------+---------+\n",
      "only showing top 5 rows\n",
      "\n"
     ]
    }
   ],
   "source": [
    "# did the user downgrade\n",
    "downgrade = df_clean.select(['userId','downgrade']).dropDuplicates(['userId']) \n",
    "df_downgrade = downgrade.withColumn('downgrade', downgrade.downgrade.cast('int'))\n",
    "df_downgrade.show(5)"
   ]
  },
  {
   "cell_type": "code",
   "execution_count": 19,
   "id": "70bfff96",
   "metadata": {},
   "outputs": [
    {
     "name": "stdout",
     "output_type": "stream",
     "text": [
      "+------+-----+\n",
      "|userId|churn|\n",
      "+------+-----+\n",
      "|    10|    0|\n",
      "|   100|    0|\n",
      "|100001|    1|\n",
      "|100002|    0|\n",
      "|100003|    1|\n",
      "+------+-----+\n",
      "only showing top 5 rows\n",
      "\n"
     ]
    }
   ],
   "source": [
    "# did the user churn\n",
    "churn = df_clean.select(['userId','churn']).dropDuplicates(['userId'])\n",
    "df_churn = churn.withColumn('churn', churn.churn.cast('int'))\n",
    "df_churn.show(5) "
   ]
  },
  {
   "cell_type": "code",
   "execution_count": 20,
   "id": "7aaa7e50",
   "metadata": {},
   "outputs": [
    {
     "name": "stdout",
     "output_type": "stream",
     "text": [
      "+------+-----+\n",
      "|userID|count|\n",
      "+------+-----+\n",
      "|    51| 2464|\n",
      "|   124| 4825|\n",
      "|     7|  201|\n",
      "|    54| 3437|\n",
      "|    15| 2278|\n",
      "+------+-----+\n",
      "only showing top 5 rows\n",
      "\n"
     ]
    }
   ],
   "source": [
    "# number of songs the user listened to in total\n",
    "num_songs = df_clean.select('userID','song').groupBy('userID').count()\n",
    "num_songs.show(5) "
   ]
  },
  {
   "cell_type": "code",
   "execution_count": 21,
   "id": "789f6601",
   "metadata": {},
   "outputs": [
    {
     "name": "stdout",
     "output_type": "stream",
     "text": [
      "+------+-------------+\n",
      "|userID|num_thumbs_up|\n",
      "+------+-------------+\n",
      "|    51|          100|\n",
      "|   124|          171|\n",
      "|    54|          163|\n",
      "|    15|           81|\n",
      "|   132|           96|\n",
      "+------+-------------+\n",
      "only showing top 5 rows\n",
      "\n",
      "None\n",
      "+------+---------------+\n",
      "|userID|num_thumbs_down|\n",
      "+------+---------------+\n",
      "|    51|             21|\n",
      "|   124|             41|\n",
      "|     7|              1|\n",
      "|    15|             14|\n",
      "|    54|             29|\n",
      "+------+---------------+\n",
      "only showing top 5 rows\n",
      "\n",
      "None\n"
     ]
    }
   ],
   "source": [
    "# number of Thumbs-Up/Down\n",
    "num_thumbs_up = df_clean.select('userID','page').where(df_clean.page == 'Thumbs Up').groupBy('userID').count().withColumnRenamed('count', 'num_thumbs_up') \n",
    "print(num_thumbs_up.show(5))\n",
    "num_thumbs_down = df_clean.select('userID','page').where(df_clean.page == 'Thumbs Down').groupBy('userID').count().withColumnRenamed('count', 'num_thumbs_down') \n",
    "print(num_thumbs_down.show(5)) "
   ]
  },
  {
   "cell_type": "code",
   "execution_count": 22,
   "id": "41ee8617",
   "metadata": {},
   "outputs": [
    {
     "name": "stdout",
     "output_type": "stream",
     "text": [
      "+------+------------+\n",
      "|userID|num_playlist|\n",
      "+------+------------+\n",
      "|    51|          52|\n",
      "|   124|         118|\n",
      "|    15|          59|\n",
      "|    54|          72|\n",
      "|   101|          61|\n",
      "+------+------------+\n",
      "only showing top 5 rows\n",
      "\n"
     ]
    }
   ],
   "source": [
    "# number of songs added to playlist\n",
    "num_playlist = df_clean.select('userID','page').where(df_clean.page == 'Add to Playlist').groupBy('userID').count().withColumnRenamed('count', 'num_playlist')\n",
    "num_playlist.show(5) "
   ]
  },
  {
   "cell_type": "code",
   "execution_count": 23,
   "id": "2852dcba",
   "metadata": {},
   "outputs": [
    {
     "name": "stdout",
     "output_type": "stream",
     "text": [
      "+------+----------+\n",
      "|userID|num_friend|\n",
      "+------+----------+\n",
      "|    51|        28|\n",
      "|   124|        74|\n",
      "|     7|         1|\n",
      "|    54|        33|\n",
      "|    15|        31|\n",
      "+------+----------+\n",
      "only showing top 5 rows\n",
      "\n"
     ]
    }
   ],
   "source": [
    "# number of friends added\n",
    "num_friends = df_clean.select('userID','page').where(df_clean.page == 'Add Friend').groupBy('userID').count().withColumnRenamed('count', 'num_friend')\n",
    "num_friends.show(5)\n"
   ]
  },
  {
   "cell_type": "code",
   "execution_count": 24,
   "id": "1012347c",
   "metadata": {},
   "outputs": [
    {
     "name": "stdout",
     "output_type": "stream",
     "text": [
      "+------+------------------+\n",
      "|userID|      sum_listened|\n",
      "+------+------------------+\n",
      "|    51| 523275.8428000001|\n",
      "|   124|1012312.0927900004|\n",
      "|     7|        38034.0871|\n",
      "|    54| 711344.9195400004|\n",
      "|    15|477307.60580999986|\n",
      "+------+------------------+\n",
      "only showing top 5 rows\n",
      "\n"
     ]
    }
   ],
   "source": [
    "# total length of listening\n",
    "sum_listened = df_clean.select('userID','length').groupBy('userID').sum().withColumnRenamed('sum(length)', 'sum_listened')\n",
    "sum_listened.show(5) "
   ]
  },
  {
   "cell_type": "code",
   "execution_count": 25,
   "id": "a886092e",
   "metadata": {},
   "outputs": [
    {
     "name": "stdout",
     "output_type": "stream",
     "text": [
      "+------+------------------+\n",
      "|userId|   av_song_session|\n",
      "+------+------------------+\n",
      "|100010|39.285714285714285|\n",
      "|200002|              64.5|\n",
      "|   125|               8.0|\n",
      "|    51|             211.1|\n",
      "|   124|145.67857142857142|\n",
      "+------+------------------+\n",
      "only showing top 5 rows\n",
      "\n"
     ]
    }
   ],
   "source": [
    "# Number of songs listened per session\n",
    "av_song_session = df_clean.where('page == \"NextSong\"').groupby(['userId', 'sessionId']).count().groupby(['userId']).agg({'count':'avg'}).withColumnRenamed('avg(count)', 'av_song_session')\n",
    "av_song_session.show(5)"
   ]
  },
  {
   "cell_type": "code",
   "execution_count": 26,
   "id": "238f6a37",
   "metadata": {},
   "outputs": [
    {
     "name": "stdout",
     "output_type": "stream",
     "text": [
      "+------+-----------+\n",
      "|userId|num_artists|\n",
      "+------+-----------+\n",
      "|100010|        252|\n",
      "|200002|        339|\n",
      "|   125|          8|\n",
      "|    51|       1385|\n",
      "|   124|       2232|\n",
      "+------+-----------+\n",
      "only showing top 5 rows\n",
      "\n"
     ]
    }
   ],
   "source": [
    "# number of artists listened to\n",
    "num_artists = df_clean.filter(df_clean.page==\"NextSong\").select(['userId', 'artist']).dropDuplicates().groupby('userId').count().withColumnRenamed('count', 'num_artists') \n",
    "num_artists.show(5) "
   ]
  },
  {
   "cell_type": "code",
   "execution_count": 27,
   "id": "d6fec8fc",
   "metadata": {},
   "outputs": [
    {
     "name": "stdout",
     "output_type": "stream",
     "text": [
      "+------+------------------+\n",
      "|userId|       days_member|\n",
      "+------+------------------+\n",
      "|    51|19.455844907407407|\n",
      "|   124|131.55591435185184|\n",
      "|     7| 72.77818287037037|\n",
      "|    54|110.75168981481481|\n",
      "|    15|56.513576388888886|\n",
      "+------+------------------+\n",
      "only showing top 5 rows\n",
      "\n"
     ]
    }
   ],
   "source": [
    "# time since registration in days\n",
    "days_member = df_clean.select('userId','ts','registration').withColumn(\n",
    "    'days_member',((df_clean.ts - df_clean.registration)/1000/3600/24)).groupBy('userId').agg(\n",
    "    {'days_member':'max'}).withColumnRenamed('max(days_member)','days_member') \n",
    "days_member.show(5) \n",
    "\n"
   ]
  },
  {
   "cell_type": "code",
   "execution_count": 28,
   "id": "7ca8721c",
   "metadata": {},
   "outputs": [
    {
     "name": "stdout",
     "output_type": "stream",
     "text": [
      "+------+------------+\n",
      "|userId|num_sessions|\n",
      "+------+------------+\n",
      "|100010|           7|\n",
      "|200002|           6|\n",
      "|   125|           1|\n",
      "|    51|          10|\n",
      "|   124|          29|\n",
      "+------+------------+\n",
      "only showing top 5 rows\n",
      "\n"
     ]
    }
   ],
   "source": [
    "# session count per user\n",
    "num_session = df_clean.select('userId', 'sessionId').dropDuplicates().groupby('userId').count().withColumnRenamed('count', 'num_sessions') \n",
    "num_session.show(5) "
   ]
  },
  {
   "cell_type": "code",
   "execution_count": 29,
   "id": "f37d0341",
   "metadata": {},
   "outputs": [
    {
     "name": "stdout",
     "output_type": "stream",
     "text": [
      "+------+---------+-------------------+\n",
      "|userId|sessionId|        dur_session|\n",
      "+------+---------+-------------------+\n",
      "|    92|      358|  4.288611111111111|\n",
      "|    42|      433| 1.2455555555555555|\n",
      "|   137|      136|0.32305555555555554|\n",
      "|   142|      141|  17.57472222222222|\n",
      "|     9|      262| 1.9794444444444443|\n",
      "+------+---------+-------------------+\n",
      "only showing top 5 rows\n",
      "\n"
     ]
    },
    {
     "name": "stderr",
     "output_type": "stream",
     "text": [
      "\r",
      "[Stage 144:=============>                                         (4 + 12) / 16]\r",
      "\r",
      "                                                                                \r"
     ]
    }
   ],
   "source": [
    "# duration of the session\n",
    "session_start = df_clean.groupBy('userId', 'sessionId').min('ts').withColumnRenamed('min(ts)', 'start')\n",
    "session_end = df_clean.groupBy('userId', 'sessionId').max('ts').withColumnRenamed('max(ts)', 'end')\n",
    "dur_session = session_start.join(session_end, ['userId', 'sessionId'])\n",
    "dur_session = dur_session.select('userId', 'sessionId', ((dur_session.end-dur_session.start)/(1000*60*60)).alias('dur_session'))\n",
    "dur_session.show(5)"
   ]
  },
  {
   "cell_type": "code",
   "execution_count": 30,
   "id": "2c09c41b",
   "metadata": {},
   "outputs": [],
   "source": [
    "# list all the features for the model data set\n",
    "model_features = [df_payment, df_downgrade, df_gender, num_songs,num_thumbs_up, num_thumbs_down, \n",
    "                  num_friends, num_playlist, sum_listened, av_song_session, num_artists, \n",
    "                  days_member, num_session, dur_session]\n",
    "\n",
    "# generate the data set for the model \n",
    "df_final = df_churn\n",
    "df_final.persist()\n",
    "\n",
    "for i, feature_to_join in enumerate(model_features):\n",
    "    df_final = df_final.join(feature_to_join,'userID','outer')"
   ]
  },
  {
   "cell_type": "code",
   "execution_count": 31,
   "id": "be588bad",
   "metadata": {},
   "outputs": [
    {
     "name": "stdout",
     "output_type": "stream",
     "text": [
      "root\n",
      " |-- churn: integer (nullable = true)\n",
      " |-- level: integer (nullable = true)\n",
      " |-- downgrade: integer (nullable = true)\n",
      " |-- gender: integer (nullable = true)\n",
      " |-- count: long (nullable = true)\n",
      " |-- num_thumbs_up: long (nullable = true)\n",
      " |-- num_thumbs_down: long (nullable = true)\n",
      " |-- num_friend: long (nullable = true)\n",
      " |-- num_playlist: long (nullable = true)\n",
      " |-- sum_listened: double (nullable = false)\n",
      " |-- av_song_session: double (nullable = false)\n",
      " |-- num_artists: long (nullable = true)\n",
      " |-- days_member: double (nullable = false)\n",
      " |-- num_sessions: long (nullable = true)\n",
      " |-- sessionId: long (nullable = true)\n",
      " |-- dur_session: double (nullable = false)\n",
      "\n"
     ]
    }
   ],
   "source": [
    "# drop userID as no longer needed and fill all remaining missing values with 0\n",
    "df_final = df_final.drop('userID') \n",
    "df_final = df_final.na.fill(0)\n",
    "\n",
    "# show schema of the final data set\n",
    "df_final.printSchema()"
   ]
  },
  {
   "cell_type": "markdown",
   "id": "fd115405",
   "metadata": {},
   "source": [
    "# Machine Learning"
   ]
  },
  {
   "cell_type": "code",
   "execution_count": 32,
   "id": "4d9ee943",
   "metadata": {},
   "outputs": [],
   "source": [
    "# rename feature churn for the model\n",
    "df_final = df_final.withColumnRenamed(\"churn\",\"label\")"
   ]
  },
  {
   "cell_type": "code",
   "execution_count": 33,
   "id": "c9e04e37",
   "metadata": {},
   "outputs": [
    {
     "data": {
      "text/plain": [
       "DataFrame[label: int, level: int, downgrade: int, gender: int, count: bigint, num_thumbs_up: bigint, num_thumbs_down: bigint, num_friend: bigint, num_playlist: bigint, sum_listened: double, av_song_session: double, num_artists: bigint, days_member: double, num_sessions: bigint, sessionId: bigint, dur_session: double, features: vector]"
      ]
     },
     "execution_count": 33,
     "metadata": {},
     "output_type": "execute_result"
    }
   ],
   "source": [
    "# vector assembler\n",
    "from pyspark.ml.feature import VectorAssembler\n",
    "assembler = VectorAssembler(inputCols=df_final.columns[1:], outputCol=\"features\")\n",
    "data = assembler.transform(df_final)\n",
    "data"
   ]
  },
  {
   "cell_type": "code",
   "execution_count": 34,
   "id": "5911f8e6",
   "metadata": {},
   "outputs": [
    {
     "name": "stderr",
     "output_type": "stream",
     "text": [
      "22/06/01 13:49:17 WARN package: Truncated the string representation of a plan since it was too large. This behavior can be adjusted by setting 'spark.sql.debug.maxToStringFields'.\n",
      "                                                                                \r"
     ]
    }
   ],
   "source": [
    "# standard scaler\n",
    "from pyspark.ml.feature import StandardScaler\n",
    "scaler = StandardScaler(inputCol=\"features\", outputCol=\"scaled_features\", withStd=True)\n",
    "scalerModel = scaler.fit(data)\n",
    "data = scalerModel.transform(data)"
   ]
  },
  {
   "cell_type": "code",
   "execution_count": 35,
   "id": "55fce4de",
   "metadata": {},
   "outputs": [],
   "source": [
    "# drop column \"features\" - as no longer needed\n",
    "data = data.drop(\"features\")"
   ]
  },
  {
   "cell_type": "code",
   "execution_count": 36,
   "id": "2a8f6cb5",
   "metadata": {},
   "outputs": [],
   "source": [
    "# split the data into train and test \n",
    "train, test = data.randomSplit([0.8, 0.2], seed=42)"
   ]
  },
  {
   "cell_type": "code",
   "execution_count": 37,
   "id": "10694332",
   "metadata": {},
   "outputs": [],
   "source": [
    "def get_model_metrics(model):\n",
    "    \n",
    "    \n",
    "    true_positive = model.where((model.label==1) & (model.prediction==1)).count()\n",
    "    true_negtive = model.where((model.label==0) & (model.prediction==0)).count()\n",
    "    \n",
    "    false_positive = model.where((model.label==0) & (model.prediction==1)).count()\n",
    "    false_negative = model.where((model.label==1) & (model.prediction==0)).count()\n",
    "        \n",
    "    accuracy = (true_positive + true_negtive) / model.count()\n",
    "    precision = true_positive / (true_positive + false_positive)\n",
    "    recall = true_positive / (true_positive + false_negative)\n",
    "    \n",
    "    f1 = 2.0 * (precision * recall) / (precision + recall)\n",
    "    \n",
    "    print('Accuracy: ', round(accuracy, 2))\n",
    "    print('Precision: ', round(precision, 2))\n",
    "    print('Recall: ', round(recall, 2))\n",
    "    print('F1-Score: ', round(f1, 2))"
   ]
  },
  {
   "cell_type": "code",
   "execution_count": 38,
   "id": "2b96d9a5",
   "metadata": {},
   "outputs": [
    {
     "name": "stderr",
     "output_type": "stream",
     "text": [
      "                                                                                ]\r"
     ]
    },
    {
     "name": "stdout",
     "output_type": "stream",
     "text": [
      "Accuracy:  0.86\n",
      "Precision:  0.73\n",
      "Recall:  0.34\n",
      "F1-Score:  0.46\n"
     ]
    }
   ],
   "source": [
    "from pyspark.ml.classification import LogisticRegression\n",
    "lr =  LogisticRegression(featuresCol='scaled_features', labelCol='label', maxIter=10, regParam=0.0, elasticNetParam=0)\n",
    "lr_model = lr.fit(train)\n",
    "results_lr = lr_model.transform(test)\n",
    "\n",
    "get_model_metrics(results_lr)"
   ]
  },
  {
   "cell_type": "code",
   "execution_count": 39,
   "id": "3730bfba",
   "metadata": {},
   "outputs": [
    {
     "data": {
      "image/png": "[encoded data removed]",
      "text/plain": [
       "<Figure size 1440x576 with 1 Axes>"
      ]
     },
     "metadata": {
      "needs_background": "light"
     },
     "output_type": "display_data"
    }
   ],
   "source": [
    "import pandas as pd\n",
    "feature_coef = lr_model.coefficients.values.tolist()\n",
    "feature_coef_df = pd.DataFrame(list(zip(df_final.columns[1:], feature_coef)), columns=['Feature', 'Coefficient'])\\\n",
    "        .sort_values('Coefficient', ascending=False)\n",
    "\n",
    "plt.figure(figsize=(20,8))\n",
    "sns.barplot(x='Feature', y='Coefficient', data=feature_coef_df)\n",
    "plt.title('Feature importance for Logistic Rgression')\n",
    "plt.xlabel('Features')\n",
    "plt.ylabel('Coefficient')\n",
    "plt.xticks(rotation=45, ha='right')\n",
    "plt.show()"
   ]
  },
  {
   "cell_type": "code",
   "execution_count": 40,
   "id": "bf024b65",
   "metadata": {},
   "outputs": [
    {
     "name": "stderr",
     "output_type": "stream",
     "text": [
      "                                                                                ]\r"
     ]
    },
    {
     "name": "stdout",
     "output_type": "stream",
     "text": [
      "Accuracy:  0.92\n",
      "Precision:  0.88\n",
      "Recall:  0.65\n",
      "F1-Score:  0.75\n"
     ]
    }
   ],
   "source": [
    "from pyspark.ml.classification import DecisionTreeClassifier\n",
    "dt = DecisionTreeClassifier(labelCol=\"label\", featuresCol=\"scaled_features\")\n",
    "dt_model = dt.fit(train)\n",
    "results_dt = dt_model.transform(test)\n",
    "\n",
    "get_model_metrics(results_dt)"
   ]
  },
  {
   "cell_type": "code",
   "execution_count": 41,
   "id": "f14e90c1",
   "metadata": {},
   "outputs": [
    {
     "data": {
      "image/png": "[encoded data removed]",
      "text/plain": [
       "<Figure size 1440x576 with 1 Axes>"
      ]
     },
     "metadata": {
      "needs_background": "light"
     },
     "output_type": "display_data"
    }
   ],
   "source": [
    "feature_ind = dt_model.featureImportances.indices.tolist()\n",
    "feature_name = [df_final.columns[1:][ind] for ind in feature_ind]\n",
    "feature_coef = dt_model.featureImportances.values.tolist()\n",
    "feature_coef_df = pd.DataFrame(list(zip(df_final.columns[1:], feature_coef)), columns=['Feature', 'Coefficient'])\\\n",
    "            .sort_values('Coefficient', ascending=False)\n",
    "\n",
    "plt.figure(figsize=(20,8))\n",
    "sns.barplot(x='Feature', y='Coefficient', data=feature_coef_df)\n",
    "plt.title('Feature importance for DecisionTreeClassifier')\n",
    "plt.xlabel('Features')\n",
    "plt.ylabel('Coefficient')\n",
    "plt.show()"
   ]
  },
  {
   "cell_type": "code",
   "execution_count": 42,
   "id": "800ed601",
   "metadata": {},
   "outputs": [
    {
     "name": "stderr",
     "output_type": "stream",
     "text": [
      "                                                                                ]\r"
     ]
    },
    {
     "name": "stdout",
     "output_type": "stream",
     "text": [
      "Accuracy:  0.93\n",
      "Precision:  0.95\n",
      "Recall:  0.65\n",
      "F1-Score:  0.77\n"
     ]
    }
   ],
   "source": [
    "from pyspark.ml.classification import RandomForestClassifier\n",
    "rf = RandomForestClassifier(labelCol=\"label\", featuresCol=\"scaled_features\")\n",
    "rf_model = rf.fit(train)\n",
    "results_rf = rf_model.transform(test)\n",
    "\n",
    "get_model_metrics(results_rf)"
   ]
  },
  {
   "cell_type": "code",
   "execution_count": 43,
   "id": "9f330f9b",
   "metadata": {},
   "outputs": [
    {
     "data": {
      "image/png": "[encoded data removed]",
      "text/plain": [
       "<Figure size 1440x576 with 1 Axes>"
      ]
     },
     "metadata": {
      "needs_background": "light"
     },
     "output_type": "display_data"
    }
   ],
   "source": [
    "feature_ind = rf_model.featureImportances.indices.tolist()\n",
    "feature_name = [df_final.columns[1:][ind] for ind in feature_ind]\n",
    "feature_coef = rf_model.featureImportances.values.tolist()\n",
    "feature_coef_df = pd.DataFrame(list(zip(df_final.columns[1:], feature_coef)), columns=['Feature', 'Coefficient'])\\\n",
    "            .sort_values('Coefficient', ascending=False)\n",
    "\n",
    "plt.figure(figsize=(20,8))\n",
    "sns.barplot(x='Feature', y='Coefficient', data=feature_coef_df)\n",
    "plt.title('Feature importance for Random Forest')\n",
    "plt.xlabel('Features')\n",
    "plt.ylabel('Coefficient')\n",
    "plt.xticks(rotation=45, ha='right')\n",
    "plt.show()"
   ]
  },
  {
   "cell_type": "code",
   "execution_count": 44,
   "id": "12b660b1",
   "metadata": {},
   "outputs": [
    {
     "name": "stderr",
     "output_type": "stream",
     "text": [
      "                                                                                ]]\r"
     ]
    },
    {
     "name": "stdout",
     "output_type": "stream",
     "text": [
      "Accuracy:  0.98\n",
      "Precision:  0.99\n",
      "Recall:  0.93\n",
      "F1-Score:  0.96\n"
     ]
    }
   ],
   "source": [
    "from pyspark.ml.classification import GBTClassifier\n",
    "gbt = GBTClassifier(labelCol=\"label\", featuresCol=\"scaled_features\")\n",
    "gbt_model = gbt.fit(train)\n",
    "results_gbt = gbt_model.transform(test)\n",
    "\n",
    "get_model_metrics(results_gbt)"
   ]
  },
  {
   "cell_type": "code",
   "execution_count": 45,
   "id": "daba1035",
   "metadata": {},
   "outputs": [
    {
     "data": {
      "image/png": "[encoded data removed]",
      "text/plain": [
       "<Figure size 1440x576 with 1 Axes>"
      ]
     },
     "metadata": {
      "needs_background": "light"
     },
     "output_type": "display_data"
    }
   ],
   "source": [
    "feature_ind = gbt_model.featureImportances.indices.tolist()\n",
    "feature_name = [df_final.columns[1:][ind] for ind in feature_ind]\n",
    "feature_coef = gbt_model.featureImportances.values.tolist()\n",
    "feature_coef_df = pd.DataFrame(list(zip(df_final.columns[1:], feature_coef)), columns=['Feature', 'Coefficient'])\\\n",
    "            .sort_values('Coefficient', ascending=False)\n",
    "\n",
    "plt.figure(figsize=(20,8))\n",
    "sns.barplot(x='Feature', y='Coefficient', data=feature_coef_df)\n",
    "plt.title('Feature importance for GBTClassifier')\n",
    "plt.xlabel('Features')\n",
    "plt.ylabel('Coefficient')\n",
    "plt.xticks(rotation=45, ha='right')\n",
    "plt.show()"
   ]
  },
  {
   "cell_type": "code",
   "execution_count": null,
   "id": "52ad5667",
   "metadata": {},
   "outputs": [],
   "source": []
  }
 ],
 "metadata": {
  "kernelspec": {
   "display_name": "Python 3 (ipykernel)",
   "language": "python",
   "name": "python3"
  },
  "language_info": {
   "codemirror_mode": {
    "name": "ipython",
    "version": 3
   },
   "file_extension": ".py",
   "mimetype": "text/x-python",
   "name": "python",
   "nbconvert_exporter": "python",
   "pygments_lexer": "ipython3",
   "version": "3.9.12"
  }
 },
 "nbformat": 4,
 "nbformat_minor": 5
}
